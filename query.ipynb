{
 "cells": [
  {
   "cell_type": "code",
   "execution_count": 1,
   "metadata": {},
   "outputs": [],
   "source": [
    "import pandas as pd\n",
    "import os"
   ]
  },
  {
   "cell_type": "code",
   "execution_count": 2,
   "metadata": {},
   "outputs": [
    {
     "name": "stdout",
     "output_type": "stream",
     "text": [
      "Number of CSV files in 'output' directory: 29\n"
     ]
    }
   ],
   "source": [
    "# How many csv files are there in the 'output' directory?\n",
    "csv_count = len([f for f in os.listdir('output') if f.endswith('.csv')])\n",
    "print(f\"Number of CSV files in 'output' directory: {csv_count}\")"
   ]
  },
  {
   "cell_type": "code",
   "execution_count": null,
   "metadata": {},
   "outputs": [],
   "source": [
    "# How many listings are in each csv file?\n",
    "for filename in os.listdir('output'):\n",
    "    if filename.endswith('.csv'):\n",
    "        df = pd.read_csv(os.path.join('output', filename))\n",
    "        print(f\"{filename}: {len(df)} listings\")"
   ]
  }
 ],
 "metadata": {
  "kernelspec": {
   "display_name": "venv",
   "language": "python",
   "name": "python3"
  },
  "language_info": {
   "codemirror_mode": {
    "name": "ipython",
    "version": 3
   },
   "file_extension": ".py",
   "mimetype": "text/x-python",
   "name": "python",
   "nbconvert_exporter": "python",
   "pygments_lexer": "ipython3",
   "version": "3.11.2"
  }
 },
 "nbformat": 4,
 "nbformat_minor": 2
}
